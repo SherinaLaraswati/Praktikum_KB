{
 "cells": [
  {
   "cell_type": "code",
   "execution_count": 358,
   "metadata": {},
   "outputs": [],
   "source": [
    "import pandas as pd\n",
    "import numpy as np\n",
    "from matplotlib import pyplot as plt\n",
    "from sklearn.model_selection import train_test_split\n",
    "from sklearn.preprocessing import MinMaxScaler\n",
    "from sklearn.impute import SimpleImputer # import fungsi simpleimputer \n",
    "from sklearn.preprocessing import OrdinalEncoder # import fungsi ordinal\n",
    "from sklearn.preprocessing import OneHotEncoder # import fungsi one hot encoder"
   ]
  },
  {
   "cell_type": "code",
   "execution_count": 359,
   "metadata": {},
   "outputs": [
    {
     "data": {
      "text/html": [
       "<div>\n",
       "<style scoped>\n",
       "    .dataframe tbody tr th:only-of-type {\n",
       "        vertical-align: middle;\n",
       "    }\n",
       "\n",
       "    .dataframe tbody tr th {\n",
       "        vertical-align: top;\n",
       "    }\n",
       "\n",
       "    .dataframe thead th {\n",
       "        text-align: right;\n",
       "    }\n",
       "</style>\n",
       "<table border=\"1\" class=\"dataframe\">\n",
       "  <thead>\n",
       "    <tr style=\"text-align: right;\">\n",
       "      <th></th>\n",
       "      <th>Unnamed: 0</th>\n",
       "      <th>Rank</th>\n",
       "      <th>Company</th>\n",
       "      <th>Country</th>\n",
       "      <th>Sales</th>\n",
       "      <th>Profits</th>\n",
       "      <th>Assets</th>\n",
       "      <th>Market Value</th>\n",
       "      <th>Sector</th>\n",
       "      <th>Industry</th>\n",
       "    </tr>\n",
       "  </thead>\n",
       "  <tbody>\n",
       "    <tr>\n",
       "      <th>0</th>\n",
       "      <td>NaN</td>\n",
       "      <td>1</td>\n",
       "      <td>ICBC</td>\n",
       "      <td>China</td>\n",
       "      <td>151.4</td>\n",
       "      <td>42.0</td>\n",
       "      <td>3473.2</td>\n",
       "      <td>229.8</td>\n",
       "      <td>Financials</td>\n",
       "      <td>Major Banks</td>\n",
       "    </tr>\n",
       "    <tr>\n",
       "      <th>1</th>\n",
       "      <td>NaN</td>\n",
       "      <td>2</td>\n",
       "      <td>China Construction Bank</td>\n",
       "      <td>China</td>\n",
       "      <td>134.2</td>\n",
       "      <td>35.0</td>\n",
       "      <td>3016.6</td>\n",
       "      <td>200.5</td>\n",
       "      <td>Financials</td>\n",
       "      <td>Regional Banks</td>\n",
       "    </tr>\n",
       "    <tr>\n",
       "      <th>2</th>\n",
       "      <td>NaN</td>\n",
       "      <td>3</td>\n",
       "      <td>Berkshire Hathaway</td>\n",
       "      <td>United States</td>\n",
       "      <td>222.9</td>\n",
       "      <td>24.1</td>\n",
       "      <td>620.9</td>\n",
       "      <td>409.9</td>\n",
       "      <td>Financials</td>\n",
       "      <td>Investment Services</td>\n",
       "    </tr>\n",
       "    <tr>\n",
       "      <th>3</th>\n",
       "      <td>NaN</td>\n",
       "      <td>4</td>\n",
       "      <td>JPMorgan Chase</td>\n",
       "      <td>United States</td>\n",
       "      <td>102.5</td>\n",
       "      <td>24.2</td>\n",
       "      <td>2513.0</td>\n",
       "      <td>306.6</td>\n",
       "      <td>Financials</td>\n",
       "      <td>Major Banks</td>\n",
       "    </tr>\n",
       "    <tr>\n",
       "      <th>4</th>\n",
       "      <td>NaN</td>\n",
       "      <td>5</td>\n",
       "      <td>Wells Fargo</td>\n",
       "      <td>United States</td>\n",
       "      <td>97.6</td>\n",
       "      <td>21.9</td>\n",
       "      <td>1943.4</td>\n",
       "      <td>274.4</td>\n",
       "      <td>Financials</td>\n",
       "      <td>Major Banks</td>\n",
       "    </tr>\n",
       "  </tbody>\n",
       "</table>\n",
       "</div>"
      ],
      "text/plain": [
       "   Unnamed: 0   Rank                  Company        Country  Sales  Profits  \\\n",
       "0         NaN      1                     ICBC          China  151.4     42.0   \n",
       "1         NaN      2  China Construction Bank          China  134.2     35.0   \n",
       "2         NaN      3       Berkshire Hathaway  United States  222.9     24.1   \n",
       "3         NaN      4           JPMorgan Chase  United States  102.5     24.2   \n",
       "4         NaN      5              Wells Fargo  United States   97.6     21.9   \n",
       "\n",
       "   Assets  Market Value      Sector             Industry  \n",
       "0  3473.2         229.8  Financials          Major Banks  \n",
       "1  3016.6         200.5  Financials       Regional Banks  \n",
       "2   620.9         409.9  Financials  Investment Services  \n",
       "3  2513.0         306.6  Financials          Major Banks  \n",
       "4  1943.4         274.4  Financials          Major Banks  "
      ]
     },
     "execution_count": 359,
     "metadata": {},
     "output_type": "execute_result"
    }
   ],
   "source": [
    "df = pd.read_csv('Forbes Top2000 2017.csv')\n",
    "df.head()"
   ]
  },
  {
   "cell_type": "markdown",
   "metadata": {},
   "source": [
    "## Mengecek tipe data"
   ]
  },
  {
   "cell_type": "code",
   "execution_count": 360,
   "metadata": {},
   "outputs": [
    {
     "data": {
      "text/plain": [
       "Unnamed: 0      float64\n",
       " Rank             int64\n",
       "Company          object\n",
       "Country          object\n",
       "Sales           float64\n",
       "Profits         float64\n",
       "Assets          float64\n",
       "Market Value    float64\n",
       "Sector           object\n",
       "Industry         object\n",
       "dtype: object"
      ]
     },
     "execution_count": 360,
     "metadata": {},
     "output_type": "execute_result"
    }
   ],
   "source": [
    "df.dtypes"
   ]
  },
  {
   "cell_type": "markdown",
   "metadata": {},
   "source": [
    "## Membagi dataset menjadi training set dan testing set dengan proporsi 70:30"
   ]
  },
  {
   "cell_type": "markdown",
   "metadata": {},
   "source": [
    "#### dataset akan dimasukkan ke variabel dataset_split dan akan dibagi menjadi training set dan testing set"
   ]
  },
  {
   "cell_type": "code",
   "execution_count": 361,
   "metadata": {},
   "outputs": [
    {
     "data": {
      "text/html": [
       "<div>\n",
       "<style scoped>\n",
       "    .dataframe tbody tr th:only-of-type {\n",
       "        vertical-align: middle;\n",
       "    }\n",
       "\n",
       "    .dataframe tbody tr th {\n",
       "        vertical-align: top;\n",
       "    }\n",
       "\n",
       "    .dataframe thead th {\n",
       "        text-align: right;\n",
       "    }\n",
       "</style>\n",
       "<table border=\"1\" class=\"dataframe\">\n",
       "  <thead>\n",
       "    <tr style=\"text-align: right;\">\n",
       "      <th></th>\n",
       "      <th>Unnamed: 0</th>\n",
       "      <th>Rank</th>\n",
       "      <th>Company</th>\n",
       "      <th>Country</th>\n",
       "      <th>Sales</th>\n",
       "      <th>Profits</th>\n",
       "      <th>Assets</th>\n",
       "      <th>Market Value</th>\n",
       "      <th>Sector</th>\n",
       "      <th>Industry</th>\n",
       "    </tr>\n",
       "  </thead>\n",
       "  <tbody>\n",
       "    <tr>\n",
       "      <th>0</th>\n",
       "      <td>NaN</td>\n",
       "      <td>1</td>\n",
       "      <td>ICBC</td>\n",
       "      <td>China</td>\n",
       "      <td>151.4</td>\n",
       "      <td>42.0</td>\n",
       "      <td>3473.2</td>\n",
       "      <td>229.8</td>\n",
       "      <td>Financials</td>\n",
       "      <td>Major Banks</td>\n",
       "    </tr>\n",
       "    <tr>\n",
       "      <th>1</th>\n",
       "      <td>NaN</td>\n",
       "      <td>2</td>\n",
       "      <td>China Construction Bank</td>\n",
       "      <td>China</td>\n",
       "      <td>134.2</td>\n",
       "      <td>35.0</td>\n",
       "      <td>3016.6</td>\n",
       "      <td>200.5</td>\n",
       "      <td>Financials</td>\n",
       "      <td>Regional Banks</td>\n",
       "    </tr>\n",
       "    <tr>\n",
       "      <th>2</th>\n",
       "      <td>NaN</td>\n",
       "      <td>3</td>\n",
       "      <td>Berkshire Hathaway</td>\n",
       "      <td>United States</td>\n",
       "      <td>222.9</td>\n",
       "      <td>24.1</td>\n",
       "      <td>620.9</td>\n",
       "      <td>409.9</td>\n",
       "      <td>Financials</td>\n",
       "      <td>Investment Services</td>\n",
       "    </tr>\n",
       "    <tr>\n",
       "      <th>3</th>\n",
       "      <td>NaN</td>\n",
       "      <td>4</td>\n",
       "      <td>JPMorgan Chase</td>\n",
       "      <td>United States</td>\n",
       "      <td>102.5</td>\n",
       "      <td>24.2</td>\n",
       "      <td>2513.0</td>\n",
       "      <td>306.6</td>\n",
       "      <td>Financials</td>\n",
       "      <td>Major Banks</td>\n",
       "    </tr>\n",
       "    <tr>\n",
       "      <th>4</th>\n",
       "      <td>NaN</td>\n",
       "      <td>5</td>\n",
       "      <td>Wells Fargo</td>\n",
       "      <td>United States</td>\n",
       "      <td>97.6</td>\n",
       "      <td>21.9</td>\n",
       "      <td>1943.4</td>\n",
       "      <td>274.4</td>\n",
       "      <td>Financials</td>\n",
       "      <td>Major Banks</td>\n",
       "    </tr>\n",
       "  </tbody>\n",
       "</table>\n",
       "</div>"
      ],
      "text/plain": [
       "   Unnamed: 0   Rank                  Company        Country  Sales  Profits  \\\n",
       "0         NaN      1                     ICBC          China  151.4     42.0   \n",
       "1         NaN      2  China Construction Bank          China  134.2     35.0   \n",
       "2         NaN      3       Berkshire Hathaway  United States  222.9     24.1   \n",
       "3         NaN      4           JPMorgan Chase  United States  102.5     24.2   \n",
       "4         NaN      5              Wells Fargo  United States   97.6     21.9   \n",
       "\n",
       "   Assets  Market Value      Sector             Industry  \n",
       "0  3473.2         229.8  Financials          Major Banks  \n",
       "1  3016.6         200.5  Financials       Regional Banks  \n",
       "2   620.9         409.9  Financials  Investment Services  \n",
       "3  2513.0         306.6  Financials          Major Banks  \n",
       "4  1943.4         274.4  Financials          Major Banks  "
      ]
     },
     "execution_count": 361,
     "metadata": {},
     "output_type": "execute_result"
    }
   ],
   "source": [
    "dataset_split = pd.read_csv('Forbes Top2000 2017.csv')\n",
    "dataset_split.head()"
   ]
  },
  {
   "cell_type": "markdown",
   "metadata": {},
   "source": [
    "#### panjang record dan atribut"
   ]
  },
  {
   "cell_type": "code",
   "execution_count": 362,
   "metadata": {},
   "outputs": [
    {
     "data": {
      "text/plain": [
       "(2000, 10)"
      ]
     },
     "execution_count": 362,
     "metadata": {},
     "output_type": "execute_result"
    }
   ],
   "source": [
    "dataset_split.shape"
   ]
  },
  {
   "cell_type": "markdown",
   "metadata": {},
   "source": [
    "## Membagi ke 2 var x dan y dengan proporsi 70:30"
   ]
  },
  {
   "cell_type": "code",
   "execution_count": 363,
   "metadata": {},
   "outputs": [],
   "source": [
    "x = dataset_split.iloc[:, :-1]\n",
    "y = dataset_split.iloc[:, -1]"
   ]
  },
  {
   "cell_type": "code",
   "execution_count": 364,
   "metadata": {},
   "outputs": [
    {
     "name": "stdout",
     "output_type": "stream",
     "text": [
      "Dimensi x_train :  (1400, 9)\n",
      "Dimensi x_test  :  (600, 9)\n",
      "Dimensi y_train :  (1400,)\n",
      "Dimensi y_test  :  (600,)\n"
     ]
    }
   ],
   "source": [
    "x_train, x_test, y_train, y_test = train_test_split(x, y, test_size = 0.3)\n",
    "\n",
    "print('Dimensi x_train : ', x_train.shape)\n",
    "print('Dimensi x_test  : ', x_test.shape)\n",
    "print('Dimensi y_train : ', y_train.shape)\n",
    "print('Dimensi y_test  : ', y_test.shape)"
   ]
  },
  {
   "cell_type": "markdown",
   "metadata": {},
   "source": [
    "## Normalisasi pada salah satu atribut (copy dataset terlebih dahulu)"
   ]
  },
  {
   "cell_type": "code",
   "execution_count": 365,
   "metadata": {},
   "outputs": [],
   "source": [
    "datasetCopyNorm = df.copy()"
   ]
  },
  {
   "cell_type": "code",
   "execution_count": 366,
   "metadata": {},
   "outputs": [],
   "source": [
    "min_max_scaler = MinMaxScaler()"
   ]
  },
  {
   "cell_type": "code",
   "execution_count": 367,
   "metadata": {},
   "outputs": [],
   "source": [
    "x_norm = min_max_scaler.fit_transform(\n",
    "    dataset_split[['Assets']]\n",
    ")"
   ]
  },
  {
   "cell_type": "code",
   "execution_count": 368,
   "metadata": {},
   "outputs": [],
   "source": [
    "dataNormalisasi = pd.DataFrame(x_norm)"
   ]
  },
  {
   "cell_type": "code",
   "execution_count": 369,
   "metadata": {},
   "outputs": [
    {
     "data": {
      "text/html": [
       "<div>\n",
       "<style scoped>\n",
       "    .dataframe tbody tr th:only-of-type {\n",
       "        vertical-align: middle;\n",
       "    }\n",
       "\n",
       "    .dataframe tbody tr th {\n",
       "        vertical-align: top;\n",
       "    }\n",
       "\n",
       "    .dataframe thead th {\n",
       "        text-align: right;\n",
       "    }\n",
       "</style>\n",
       "<table border=\"1\" class=\"dataframe\">\n",
       "  <thead>\n",
       "    <tr style=\"text-align: right;\">\n",
       "      <th></th>\n",
       "      <th>0</th>\n",
       "    </tr>\n",
       "  </thead>\n",
       "  <tbody>\n",
       "    <tr>\n",
       "      <th>0</th>\n",
       "      <td>1.000000</td>\n",
       "    </tr>\n",
       "    <tr>\n",
       "      <th>1</th>\n",
       "      <td>0.868536</td>\n",
       "    </tr>\n",
       "    <tr>\n",
       "      <th>2</th>\n",
       "      <td>0.178769</td>\n",
       "    </tr>\n",
       "    <tr>\n",
       "      <th>3</th>\n",
       "      <td>0.723540</td>\n",
       "    </tr>\n",
       "    <tr>\n",
       "      <th>4</th>\n",
       "      <td>0.559542</td>\n",
       "    </tr>\n",
       "  </tbody>\n",
       "</table>\n",
       "</div>"
      ],
      "text/plain": [
       "          0\n",
       "0  1.000000\n",
       "1  0.868536\n",
       "2  0.178769\n",
       "3  0.723540\n",
       "4  0.559542"
      ]
     },
     "execution_count": 369,
     "metadata": {},
     "output_type": "execute_result"
    }
   ],
   "source": [
    "dataNormalisasi.head()"
   ]
  },
  {
   "cell_type": "markdown",
   "metadata": {},
   "source": [
    "## Lakukan standarisasi pada dataset (copy dataset terlebih dahulu)"
   ]
  },
  {
   "cell_type": "code",
   "execution_count": 370,
   "metadata": {},
   "outputs": [],
   "source": [
    "datasetCopyNorm = dataset_split.copy()"
   ]
  },
  {
   "cell_type": "markdown",
   "metadata": {},
   "source": [
    "#### dataset sebelum dilakukan standarisasi menggunakan scaling"
   ]
  },
  {
   "cell_type": "code",
   "execution_count": 371,
   "metadata": {},
   "outputs": [
    {
     "name": "stdout",
     "output_type": "stream",
     "text": [
      "Nilai standarisasi sebelum dilakukan scaling: \n"
     ]
    },
    {
     "name": "stderr",
     "output_type": "stream",
     "text": [
      "C:\\Users\\sherina laraswati\\venv_A2-21\\Sherina_050\\lib\\site-packages\\numpy\\core\\fromnumeric.py:3571: FutureWarning: Dropping of nuisance columns in DataFrame reductions (with 'numeric_only=None') is deprecated; in a future version this will raise TypeError.  Select only valid columns before calling the reduction.\n",
      "  return std(axis=axis, dtype=dtype, out=out, ddof=ddof, **kwargs)\n"
     ]
    },
    {
     "data": {
      "text/plain": [
       "Unnamed: 0             NaN\n",
       " Rank           577.350197\n",
       "Sales            29.312785\n",
       "Profits           2.918012\n",
       "Assets          260.919234\n",
       "Market Value     44.750208\n",
       "dtype: float64"
      ]
     },
     "execution_count": 371,
     "metadata": {},
     "output_type": "execute_result"
    }
   ],
   "source": [
    "print('Nilai standarisasi sebelum dilakukan scaling: ')\n",
    "np.std(dataset_split)"
   ]
  },
  {
   "cell_type": "code",
   "execution_count": 372,
   "metadata": {},
   "outputs": [],
   "source": [
    "from sklearn.preprocessing import StandardScaler"
   ]
  },
  {
   "cell_type": "code",
   "execution_count": 373,
   "metadata": {},
   "outputs": [],
   "source": [
    "standard_scaler = StandardScaler()"
   ]
  },
  {
   "cell_type": "code",
   "execution_count": 374,
   "metadata": {},
   "outputs": [],
   "source": [
    "x_standard = standard_scaler.fit_transform(\n",
    "    dataset_split[['Sales', 'Profits', 'Assets', 'Market Value']]\n",
    ")"
   ]
  },
  {
   "cell_type": "code",
   "execution_count": 375,
   "metadata": {},
   "outputs": [
    {
     "name": "stdout",
     "output_type": "stream",
     "text": [
      "Nilai sesudah dilakukan scaling\n"
     ]
    },
    {
     "data": {
      "text/plain": [
       "0.9999999999999999"
      ]
     },
     "execution_count": 375,
     "metadata": {},
     "output_type": "execute_result"
    }
   ],
   "source": [
    "print('Nilai sesudah dilakukan scaling')\n",
    "np.std(x_standard)"
   ]
  },
  {
   "cell_type": "code",
   "execution_count": 376,
   "metadata": {},
   "outputs": [],
   "source": [
    "data_standarisasi = pd.DataFrame(x_standard)"
   ]
  },
  {
   "cell_type": "code",
   "execution_count": 377,
   "metadata": {},
   "outputs": [
    {
     "data": {
      "text/html": [
       "<div>\n",
       "<style scoped>\n",
       "    .dataframe tbody tr th:only-of-type {\n",
       "        vertical-align: middle;\n",
       "    }\n",
       "\n",
       "    .dataframe tbody tr th {\n",
       "        vertical-align: top;\n",
       "    }\n",
       "\n",
       "    .dataframe thead th {\n",
       "        text-align: right;\n",
       "    }\n",
       "</style>\n",
       "<table border=\"1\" class=\"dataframe\">\n",
       "  <thead>\n",
       "    <tr style=\"text-align: right;\">\n",
       "      <th></th>\n",
       "      <th>0</th>\n",
       "      <th>1</th>\n",
       "      <th>2</th>\n",
       "      <th>3</th>\n",
       "    </tr>\n",
       "  </thead>\n",
       "  <tbody>\n",
       "    <tr>\n",
       "      <th>0</th>\n",
       "      <td>4.562360</td>\n",
       "      <td>13.968168</td>\n",
       "      <td>12.987415</td>\n",
       "      <td>4.589524</td>\n",
       "    </tr>\n",
       "    <tr>\n",
       "      <th>1</th>\n",
       "      <td>3.975586</td>\n",
       "      <td>11.569275</td>\n",
       "      <td>11.237448</td>\n",
       "      <td>3.934779</td>\n",
       "    </tr>\n",
       "    <tr>\n",
       "      <th>2</th>\n",
       "      <td>7.001569</td>\n",
       "      <td>7.833855</td>\n",
       "      <td>2.055680</td>\n",
       "      <td>8.614086</td>\n",
       "    </tr>\n",
       "    <tr>\n",
       "      <th>3</th>\n",
       "      <td>2.894146</td>\n",
       "      <td>7.868125</td>\n",
       "      <td>9.307349</td>\n",
       "      <td>6.305717</td>\n",
       "    </tr>\n",
       "    <tr>\n",
       "      <th>4</th>\n",
       "      <td>2.726984</td>\n",
       "      <td>7.079917</td>\n",
       "      <td>7.124298</td>\n",
       "      <td>5.586167</td>\n",
       "    </tr>\n",
       "  </tbody>\n",
       "</table>\n",
       "</div>"
      ],
      "text/plain": [
       "          0          1          2         3\n",
       "0  4.562360  13.968168  12.987415  4.589524\n",
       "1  3.975586  11.569275  11.237448  3.934779\n",
       "2  7.001569   7.833855   2.055680  8.614086\n",
       "3  2.894146   7.868125   9.307349  6.305717\n",
       "4  2.726984   7.079917   7.124298  5.586167"
      ]
     },
     "execution_count": 377,
     "metadata": {},
     "output_type": "execute_result"
    }
   ],
   "source": [
    "data_standarisasi.head()"
   ]
  },
  {
   "cell_type": "markdown",
   "metadata": {},
   "source": [
    "## Data cleaning pada data dengan nilai null. Ganti niali null sesuai ketentuan (bil. bulat: medain/modus, bil.desimal: mean, tulisan: modus)"
   ]
  },
  {
   "cell_type": "markdown",
   "metadata": {},
   "source": [
    "#### Mengecek nilai null"
   ]
  },
  {
   "cell_type": "code",
   "execution_count": 378,
   "metadata": {},
   "outputs": [
    {
     "data": {
      "text/plain": [
       "Unnamed: 0      2000\n",
       " Rank              0\n",
       "Company            0\n",
       "Country            0\n",
       "Sales              0\n",
       "Profits            0\n",
       "Assets             0\n",
       "Market Value       0\n",
       "Sector           197\n",
       "Industry         491\n",
       "dtype: int64"
      ]
     },
     "execution_count": 378,
     "metadata": {},
     "output_type": "execute_result"
    }
   ],
   "source": [
    "df.isnull().sum()"
   ]
  },
  {
   "cell_type": "markdown",
   "metadata": {},
   "source": [
    "#### data cleaning mengubah nilai null type objek menjadi modus"
   ]
  },
  {
   "cell_type": "code",
   "execution_count": 379,
   "metadata": {},
   "outputs": [],
   "source": [
    "simpleImputerObjek = SimpleImputer(strategy = 'most_frequent')"
   ]
  },
  {
   "cell_type": "code",
   "execution_count": 380,
   "metadata": {},
   "outputs": [],
   "source": [
    "df['Sector'] = simpleImputerObjek.fit_transform(df[['Sector']])\n",
    "df['Industry'] = simpleImputerObjek.fit_transform(df[['Industry']])\n"
   ]
  },
  {
   "cell_type": "code",
   "execution_count": 381,
   "metadata": {},
   "outputs": [
    {
     "data": {
      "text/plain": [
       "Unnamed: 0      2000\n",
       " Rank              0\n",
       "Company            0\n",
       "Country            0\n",
       "Sales              0\n",
       "Profits            0\n",
       "Assets             0\n",
       "Market Value       0\n",
       "Sector             0\n",
       "Industry           0\n",
       "dtype: int64"
      ]
     },
     "execution_count": 381,
     "metadata": {},
     "output_type": "execute_result"
    }
   ],
   "source": [
    "df.isna().sum()"
   ]
  },
  {
   "cell_type": "markdown",
   "metadata": {},
   "source": [
    "#### Membuat data duplicate"
   ]
  },
  {
   "cell_type": "code",
   "execution_count": 382,
   "metadata": {},
   "outputs": [
    {
     "name": "stderr",
     "output_type": "stream",
     "text": [
      "C:\\Users\\sherina laraswati\\AppData\\Local\\Temp\\ipykernel_17084\\2887932323.py:12: FutureWarning: The frame.append method is deprecated and will be removed from pandas in a future version. Use pandas.concat instead.\n",
      "  df = df.append([duplicate1, duplicate2], ignore_index=True)\n"
     ]
    }
   ],
   "source": [
    "duplicate1 = pd.DataFrame([[2, 'ICBC', 'China', 151.4, 42, 3473.2, 229.8, \n",
    "                           'Financials', 'Major Banks']],\n",
    "                        columns =['Rank', 'Company', 'Countrty', 'Sales', 'Profits', \n",
    "                                  'Assets','Market Value', 'Sector', 'Industry'])\n",
    "\n",
    "\n",
    "duplicate2 = pd.DataFrame([[2, 'ICBC', 'China', 151.4, 42, 3473.2, 229.8, \n",
    "                           'Financials', 'Major Banks']],\n",
    "                        columns =['Rank', 'Company', 'Countrty', 'Sales', 'Profits', \n",
    "                                  'Assets','Market Value', 'Sector', 'Industry'])\n",
    "             \n",
    "df = df.append([duplicate1, duplicate2], ignore_index=True) "
   ]
  },
  {
   "cell_type": "code",
   "execution_count": 383,
   "metadata": {},
   "outputs": [
    {
     "data": {
      "text/html": [
       "<div>\n",
       "<style scoped>\n",
       "    .dataframe tbody tr th:only-of-type {\n",
       "        vertical-align: middle;\n",
       "    }\n",
       "\n",
       "    .dataframe tbody tr th {\n",
       "        vertical-align: top;\n",
       "    }\n",
       "\n",
       "    .dataframe thead th {\n",
       "        text-align: right;\n",
       "    }\n",
       "</style>\n",
       "<table border=\"1\" class=\"dataframe\">\n",
       "  <thead>\n",
       "    <tr style=\"text-align: right;\">\n",
       "      <th></th>\n",
       "      <th>Unnamed: 0</th>\n",
       "      <th>Rank</th>\n",
       "      <th>Company</th>\n",
       "      <th>Country</th>\n",
       "      <th>Sales</th>\n",
       "      <th>Profits</th>\n",
       "      <th>Assets</th>\n",
       "      <th>Market Value</th>\n",
       "      <th>Sector</th>\n",
       "      <th>Industry</th>\n",
       "      <th>Rank</th>\n",
       "      <th>Countrty</th>\n",
       "    </tr>\n",
       "  </thead>\n",
       "  <tbody>\n",
       "    <tr>\n",
       "      <th>2001</th>\n",
       "      <td>NaN</td>\n",
       "      <td>NaN</td>\n",
       "      <td>ICBC</td>\n",
       "      <td>NaN</td>\n",
       "      <td>151.4</td>\n",
       "      <td>42.0</td>\n",
       "      <td>3473.2</td>\n",
       "      <td>229.8</td>\n",
       "      <td>Financials</td>\n",
       "      <td>Major Banks</td>\n",
       "      <td>2.0</td>\n",
       "      <td>China</td>\n",
       "    </tr>\n",
       "  </tbody>\n",
       "</table>\n",
       "</div>"
      ],
      "text/plain": [
       "      Unnamed: 0   Rank Company Country  Sales  Profits  Assets  Market Value  \\\n",
       "2001         NaN    NaN    ICBC     NaN  151.4     42.0  3473.2         229.8   \n",
       "\n",
       "          Sector     Industry  Rank Countrty  \n",
       "2001  Financials  Major Banks   2.0    China  "
      ]
     },
     "execution_count": 383,
     "metadata": {},
     "output_type": "execute_result"
    }
   ],
   "source": [
    "df[df.duplicated()]"
   ]
  },
  {
   "cell_type": "markdown",
   "metadata": {},
   "source": [
    "#### menghapus data duplicate"
   ]
  },
  {
   "cell_type": "code",
   "execution_count": 384,
   "metadata": {},
   "outputs": [],
   "source": [
    "df.drop_duplicates(inplace = True)"
   ]
  },
  {
   "cell_type": "code",
   "execution_count": 385,
   "metadata": {},
   "outputs": [
    {
     "data": {
      "text/html": [
       "<div>\n",
       "<style scoped>\n",
       "    .dataframe tbody tr th:only-of-type {\n",
       "        vertical-align: middle;\n",
       "    }\n",
       "\n",
       "    .dataframe tbody tr th {\n",
       "        vertical-align: top;\n",
       "    }\n",
       "\n",
       "    .dataframe thead th {\n",
       "        text-align: right;\n",
       "    }\n",
       "</style>\n",
       "<table border=\"1\" class=\"dataframe\">\n",
       "  <thead>\n",
       "    <tr style=\"text-align: right;\">\n",
       "      <th></th>\n",
       "      <th>Unnamed: 0</th>\n",
       "      <th>Rank</th>\n",
       "      <th>Company</th>\n",
       "      <th>Country</th>\n",
       "      <th>Sales</th>\n",
       "      <th>Profits</th>\n",
       "      <th>Assets</th>\n",
       "      <th>Market Value</th>\n",
       "      <th>Sector</th>\n",
       "      <th>Industry</th>\n",
       "      <th>Rank</th>\n",
       "      <th>Countrty</th>\n",
       "    </tr>\n",
       "  </thead>\n",
       "  <tbody>\n",
       "  </tbody>\n",
       "</table>\n",
       "</div>"
      ],
      "text/plain": [
       "Empty DataFrame\n",
       "Columns: [Unnamed: 0,  Rank, Company, Country, Sales, Profits, Assets, Market Value, Sector, Industry, Rank, Countrty]\n",
       "Index: []"
      ]
     },
     "execution_count": 385,
     "metadata": {},
     "output_type": "execute_result"
    }
   ],
   "source": [
    "df[df.duplicated()]"
   ]
  },
  {
   "cell_type": "code",
   "execution_count": 386,
   "metadata": {},
   "outputs": [
    {
     "data": {
      "text/plain": [
       "0"
      ]
     },
     "execution_count": 386,
     "metadata": {},
     "output_type": "execute_result"
    }
   ],
   "source": [
    "df.duplicated().sum()"
   ]
  },
  {
   "cell_type": "markdown",
   "metadata": {},
   "source": [
    "## ganti salah satu atribut angka"
   ]
  },
  {
   "cell_type": "code",
   "execution_count": 387,
   "metadata": {},
   "outputs": [
    {
     "data": {
      "text/plain": [
       "Unnamed: 0      float64\n",
       " Rank           float64\n",
       "Company          object\n",
       "Country          object\n",
       "Sales           float64\n",
       "Profits         float64\n",
       "Assets          float64\n",
       "Market Value    float64\n",
       "Sector           object\n",
       "Industry         object\n",
       "Rank            float64\n",
       "Countrty         object\n",
       "dtype: object"
      ]
     },
     "execution_count": 387,
     "metadata": {},
     "output_type": "execute_result"
    }
   ],
   "source": [
    "df.dtypes"
   ]
  },
  {
   "cell_type": "code",
   "execution_count": 388,
   "metadata": {},
   "outputs": [],
   "source": [
    "df['Sales'] = df['Sales'].astype('int64')"
   ]
  },
  {
   "cell_type": "code",
   "execution_count": 389,
   "metadata": {},
   "outputs": [
    {
     "data": {
      "text/plain": [
       "Unnamed: 0      float64\n",
       " Rank           float64\n",
       "Company          object\n",
       "Country          object\n",
       "Sales             int64\n",
       "Profits         float64\n",
       "Assets          float64\n",
       "Market Value    float64\n",
       "Sector           object\n",
       "Industry         object\n",
       "Rank            float64\n",
       "Countrty         object\n",
       "dtype: object"
      ]
     },
     "execution_count": 389,
     "metadata": {},
     "output_type": "execute_result"
    }
   ],
   "source": [
    "df.dtypes"
   ]
  },
  {
   "cell_type": "markdown",
   "metadata": {},
   "source": [
    "## One hot encoding"
   ]
  },
  {
   "cell_type": "code",
   "execution_count": 390,
   "metadata": {},
   "outputs": [],
   "source": [
    "oneHotEncoder = OneHotEncoder(sparse = False)\n",
    "onehot = oneHotEncoder.fit_transform(df[['Country']])"
   ]
  },
  {
   "cell_type": "code",
   "execution_count": 391,
   "metadata": {},
   "outputs": [],
   "source": [
    "dataonehot = pd.DataFrame(onehot)"
   ]
  },
  {
   "cell_type": "code",
   "execution_count": 392,
   "metadata": {},
   "outputs": [],
   "source": [
    "df = df.join(dataonehot)"
   ]
  },
  {
   "cell_type": "code",
   "execution_count": 393,
   "metadata": {},
   "outputs": [
    {
     "data": {
      "text/html": [
       "<div>\n",
       "<style scoped>\n",
       "    .dataframe tbody tr th:only-of-type {\n",
       "        vertical-align: middle;\n",
       "    }\n",
       "\n",
       "    .dataframe tbody tr th {\n",
       "        vertical-align: top;\n",
       "    }\n",
       "\n",
       "    .dataframe thead th {\n",
       "        text-align: right;\n",
       "    }\n",
       "</style>\n",
       "<table border=\"1\" class=\"dataframe\">\n",
       "  <thead>\n",
       "    <tr style=\"text-align: right;\">\n",
       "      <th></th>\n",
       "      <th>Unnamed: 0</th>\n",
       "      <th>Rank</th>\n",
       "      <th>Company</th>\n",
       "      <th>Country</th>\n",
       "      <th>Sales</th>\n",
       "      <th>Profits</th>\n",
       "      <th>Assets</th>\n",
       "      <th>Market Value</th>\n",
       "      <th>Sector</th>\n",
       "      <th>Industry</th>\n",
       "      <th>...</th>\n",
       "      <th>52</th>\n",
       "      <th>53</th>\n",
       "      <th>54</th>\n",
       "      <th>55</th>\n",
       "      <th>56</th>\n",
       "      <th>57</th>\n",
       "      <th>58</th>\n",
       "      <th>59</th>\n",
       "      <th>60</th>\n",
       "      <th>61</th>\n",
       "    </tr>\n",
       "  </thead>\n",
       "  <tbody>\n",
       "    <tr>\n",
       "      <th>0</th>\n",
       "      <td>NaN</td>\n",
       "      <td>1.0</td>\n",
       "      <td>ICBC</td>\n",
       "      <td>China</td>\n",
       "      <td>151</td>\n",
       "      <td>42.0</td>\n",
       "      <td>3473.2</td>\n",
       "      <td>229.8</td>\n",
       "      <td>Financials</td>\n",
       "      <td>Major Banks</td>\n",
       "      <td>...</td>\n",
       "      <td>0.0</td>\n",
       "      <td>0.0</td>\n",
       "      <td>0.0</td>\n",
       "      <td>0.0</td>\n",
       "      <td>0.0</td>\n",
       "      <td>0.0</td>\n",
       "      <td>0.0</td>\n",
       "      <td>0.0</td>\n",
       "      <td>0.0</td>\n",
       "      <td>0.0</td>\n",
       "    </tr>\n",
       "    <tr>\n",
       "      <th>1</th>\n",
       "      <td>NaN</td>\n",
       "      <td>2.0</td>\n",
       "      <td>China Construction Bank</td>\n",
       "      <td>China</td>\n",
       "      <td>134</td>\n",
       "      <td>35.0</td>\n",
       "      <td>3016.6</td>\n",
       "      <td>200.5</td>\n",
       "      <td>Financials</td>\n",
       "      <td>Regional Banks</td>\n",
       "      <td>...</td>\n",
       "      <td>0.0</td>\n",
       "      <td>0.0</td>\n",
       "      <td>0.0</td>\n",
       "      <td>0.0</td>\n",
       "      <td>0.0</td>\n",
       "      <td>0.0</td>\n",
       "      <td>0.0</td>\n",
       "      <td>0.0</td>\n",
       "      <td>0.0</td>\n",
       "      <td>0.0</td>\n",
       "    </tr>\n",
       "    <tr>\n",
       "      <th>2</th>\n",
       "      <td>NaN</td>\n",
       "      <td>3.0</td>\n",
       "      <td>Berkshire Hathaway</td>\n",
       "      <td>United States</td>\n",
       "      <td>222</td>\n",
       "      <td>24.1</td>\n",
       "      <td>620.9</td>\n",
       "      <td>409.9</td>\n",
       "      <td>Financials</td>\n",
       "      <td>Investment Services</td>\n",
       "      <td>...</td>\n",
       "      <td>0.0</td>\n",
       "      <td>0.0</td>\n",
       "      <td>0.0</td>\n",
       "      <td>0.0</td>\n",
       "      <td>0.0</td>\n",
       "      <td>0.0</td>\n",
       "      <td>1.0</td>\n",
       "      <td>0.0</td>\n",
       "      <td>0.0</td>\n",
       "      <td>0.0</td>\n",
       "    </tr>\n",
       "    <tr>\n",
       "      <th>3</th>\n",
       "      <td>NaN</td>\n",
       "      <td>4.0</td>\n",
       "      <td>JPMorgan Chase</td>\n",
       "      <td>United States</td>\n",
       "      <td>102</td>\n",
       "      <td>24.2</td>\n",
       "      <td>2513.0</td>\n",
       "      <td>306.6</td>\n",
       "      <td>Financials</td>\n",
       "      <td>Major Banks</td>\n",
       "      <td>...</td>\n",
       "      <td>0.0</td>\n",
       "      <td>0.0</td>\n",
       "      <td>0.0</td>\n",
       "      <td>0.0</td>\n",
       "      <td>0.0</td>\n",
       "      <td>0.0</td>\n",
       "      <td>1.0</td>\n",
       "      <td>0.0</td>\n",
       "      <td>0.0</td>\n",
       "      <td>0.0</td>\n",
       "    </tr>\n",
       "    <tr>\n",
       "      <th>4</th>\n",
       "      <td>NaN</td>\n",
       "      <td>5.0</td>\n",
       "      <td>Wells Fargo</td>\n",
       "      <td>United States</td>\n",
       "      <td>97</td>\n",
       "      <td>21.9</td>\n",
       "      <td>1943.4</td>\n",
       "      <td>274.4</td>\n",
       "      <td>Financials</td>\n",
       "      <td>Major Banks</td>\n",
       "      <td>...</td>\n",
       "      <td>0.0</td>\n",
       "      <td>0.0</td>\n",
       "      <td>0.0</td>\n",
       "      <td>0.0</td>\n",
       "      <td>0.0</td>\n",
       "      <td>0.0</td>\n",
       "      <td>1.0</td>\n",
       "      <td>0.0</td>\n",
       "      <td>0.0</td>\n",
       "      <td>0.0</td>\n",
       "    </tr>\n",
       "  </tbody>\n",
       "</table>\n",
       "<p>5 rows × 74 columns</p>\n",
       "</div>"
      ],
      "text/plain": [
       "   Unnamed: 0   Rank                  Company        Country  Sales  Profits  \\\n",
       "0         NaN    1.0                     ICBC          China    151     42.0   \n",
       "1         NaN    2.0  China Construction Bank          China    134     35.0   \n",
       "2         NaN    3.0       Berkshire Hathaway  United States    222     24.1   \n",
       "3         NaN    4.0           JPMorgan Chase  United States    102     24.2   \n",
       "4         NaN    5.0              Wells Fargo  United States     97     21.9   \n",
       "\n",
       "   Assets  Market Value      Sector             Industry  ...   52   53   54  \\\n",
       "0  3473.2         229.8  Financials          Major Banks  ...  0.0  0.0  0.0   \n",
       "1  3016.6         200.5  Financials       Regional Banks  ...  0.0  0.0  0.0   \n",
       "2   620.9         409.9  Financials  Investment Services  ...  0.0  0.0  0.0   \n",
       "3  2513.0         306.6  Financials          Major Banks  ...  0.0  0.0  0.0   \n",
       "4  1943.4         274.4  Financials          Major Banks  ...  0.0  0.0  0.0   \n",
       "\n",
       "    55   56   57   58   59   60   61  \n",
       "0  0.0  0.0  0.0  0.0  0.0  0.0  0.0  \n",
       "1  0.0  0.0  0.0  0.0  0.0  0.0  0.0  \n",
       "2  0.0  0.0  0.0  1.0  0.0  0.0  0.0  \n",
       "3  0.0  0.0  0.0  1.0  0.0  0.0  0.0  \n",
       "4  0.0  0.0  0.0  1.0  0.0  0.0  0.0  \n",
       "\n",
       "[5 rows x 74 columns]"
      ]
     },
     "execution_count": 393,
     "metadata": {},
     "output_type": "execute_result"
    }
   ],
   "source": [
    "df.head()"
   ]
  },
  {
   "cell_type": "code",
   "execution_count": 394,
   "metadata": {},
   "outputs": [],
   "source": [
    "df.to_csv('Praktikum_KB_4')"
   ]
  },
  {
   "cell_type": "code",
   "execution_count": null,
   "metadata": {},
   "outputs": [],
   "source": []
  }
 ],
 "metadata": {
  "kernelspec": {
   "display_name": "Sherina_050",
   "language": "python",
   "name": "sherina_050"
  },
  "language_info": {
   "codemirror_mode": {
    "name": "ipython",
    "version": 3
   },
   "file_extension": ".py",
   "mimetype": "text/x-python",
   "name": "python",
   "nbconvert_exporter": "python",
   "pygments_lexer": "ipython3",
   "version": "3.10.7"
  }
 },
 "nbformat": 4,
 "nbformat_minor": 2
}
