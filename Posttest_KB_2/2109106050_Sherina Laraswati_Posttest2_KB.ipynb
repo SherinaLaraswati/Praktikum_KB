{
 "cells": [
  {
   "cell_type": "markdown",
   "metadata": {},
   "source": [
    "## read csv untuk membaca file csv \n",
    "## df. describe untuk menampilkan rata rata, standar deviasi, nilai minimum, nilai maksimum, Q1, Q2, Q3 "
   ]
  },
  {
   "cell_type": "code",
   "execution_count": 1,
   "metadata": {},
   "outputs": [
    {
     "data": {
      "text/html": [
       "<div>\n",
       "<style scoped>\n",
       "    .dataframe tbody tr th:only-of-type {\n",
       "        vertical-align: middle;\n",
       "    }\n",
       "\n",
       "    .dataframe tbody tr th {\n",
       "        vertical-align: top;\n",
       "    }\n",
       "\n",
       "    .dataframe thead th {\n",
       "        text-align: right;\n",
       "    }\n",
       "</style>\n",
       "<table border=\"1\" class=\"dataframe\">\n",
       "  <thead>\n",
       "    <tr style=\"text-align: right;\">\n",
       "      <th></th>\n",
       "      <th>Unnamed: 0</th>\n",
       "      <th>Rank</th>\n",
       "      <th>Sales</th>\n",
       "      <th>Profits</th>\n",
       "      <th>Assets</th>\n",
       "      <th>Market Value</th>\n",
       "    </tr>\n",
       "  </thead>\n",
       "  <tbody>\n",
       "    <tr>\n",
       "      <th>count</th>\n",
       "      <td>0.0</td>\n",
       "      <td>2000.000000</td>\n",
       "      <td>2000.000000</td>\n",
       "      <td>2000.000000</td>\n",
       "      <td>2000.000000</td>\n",
       "      <td>2000.000000</td>\n",
       "    </tr>\n",
       "    <tr>\n",
       "      <th>mean</th>\n",
       "      <td>NaN</td>\n",
       "      <td>1000.500000</td>\n",
       "      <td>17.664510</td>\n",
       "      <td>1.240713</td>\n",
       "      <td>84.533546</td>\n",
       "      <td>24.417844</td>\n",
       "    </tr>\n",
       "    <tr>\n",
       "      <th>std</th>\n",
       "      <td>NaN</td>\n",
       "      <td>577.494589</td>\n",
       "      <td>29.320116</td>\n",
       "      <td>2.918742</td>\n",
       "      <td>260.984489</td>\n",
       "      <td>44.761400</td>\n",
       "    </tr>\n",
       "    <tr>\n",
       "      <th>min</th>\n",
       "      <td>NaN</td>\n",
       "      <td>1.000000</td>\n",
       "      <td>0.001000</td>\n",
       "      <td>-13.000000</td>\n",
       "      <td>0.001000</td>\n",
       "      <td>0.072000</td>\n",
       "    </tr>\n",
       "    <tr>\n",
       "      <th>25%</th>\n",
       "      <td>NaN</td>\n",
       "      <td>500.750000</td>\n",
       "      <td>4.000000</td>\n",
       "      <td>0.318000</td>\n",
       "      <td>10.875000</td>\n",
       "      <td>6.600000</td>\n",
       "    </tr>\n",
       "    <tr>\n",
       "      <th>50%</th>\n",
       "      <td>NaN</td>\n",
       "      <td>1000.500000</td>\n",
       "      <td>8.800000</td>\n",
       "      <td>0.613000</td>\n",
       "      <td>22.900000</td>\n",
       "      <td>11.950000</td>\n",
       "    </tr>\n",
       "    <tr>\n",
       "      <th>75%</th>\n",
       "      <td>NaN</td>\n",
       "      <td>1500.250000</td>\n",
       "      <td>17.425000</td>\n",
       "      <td>1.300000</td>\n",
       "      <td>52.400000</td>\n",
       "      <td>24.400000</td>\n",
       "    </tr>\n",
       "    <tr>\n",
       "      <th>max</th>\n",
       "      <td>NaN</td>\n",
       "      <td>2000.000000</td>\n",
       "      <td>485.300000</td>\n",
       "      <td>45.200000</td>\n",
       "      <td>3473.200000</td>\n",
       "      <td>752.000000</td>\n",
       "    </tr>\n",
       "  </tbody>\n",
       "</table>\n",
       "</div>"
      ],
      "text/plain": [
       "       Unnamed: 0         Rank        Sales      Profits       Assets  \\\n",
       "count         0.0  2000.000000  2000.000000  2000.000000  2000.000000   \n",
       "mean          NaN  1000.500000    17.664510     1.240713    84.533546   \n",
       "std           NaN   577.494589    29.320116     2.918742   260.984489   \n",
       "min           NaN     1.000000     0.001000   -13.000000     0.001000   \n",
       "25%           NaN   500.750000     4.000000     0.318000    10.875000   \n",
       "50%           NaN  1000.500000     8.800000     0.613000    22.900000   \n",
       "75%           NaN  1500.250000    17.425000     1.300000    52.400000   \n",
       "max           NaN  2000.000000   485.300000    45.200000  3473.200000   \n",
       "\n",
       "       Market Value  \n",
       "count   2000.000000  \n",
       "mean      24.417844  \n",
       "std       44.761400  \n",
       "min        0.072000  \n",
       "25%        6.600000  \n",
       "50%       11.950000  \n",
       "75%       24.400000  \n",
       "max      752.000000  "
      ]
     },
     "execution_count": 1,
     "metadata": {},
     "output_type": "execute_result"
    }
   ],
   "source": [
    "import pandas as pd\n",
    "\n",
    "df = pd.read_csv('Forbes Top2000 2017.csv')\n",
    "df.describe()\n"
   ]
  },
  {
   "cell_type": "markdown",
   "metadata": {},
   "source": [
    "## untuk menampilkan nilai korelasi atribut "
   ]
  },
  {
   "cell_type": "code",
   "execution_count": 2,
   "metadata": {},
   "outputs": [
    {
     "data": {
      "text/html": [
       "<div>\n",
       "<style scoped>\n",
       "    .dataframe tbody tr th:only-of-type {\n",
       "        vertical-align: middle;\n",
       "    }\n",
       "\n",
       "    .dataframe tbody tr th {\n",
       "        vertical-align: top;\n",
       "    }\n",
       "\n",
       "    .dataframe thead th {\n",
       "        text-align: right;\n",
       "    }\n",
       "</style>\n",
       "<table border=\"1\" class=\"dataframe\">\n",
       "  <thead>\n",
       "    <tr style=\"text-align: right;\">\n",
       "      <th></th>\n",
       "      <th>Unnamed: 0</th>\n",
       "      <th>Rank</th>\n",
       "      <th>Sales</th>\n",
       "      <th>Profits</th>\n",
       "      <th>Assets</th>\n",
       "      <th>Market Value</th>\n",
       "    </tr>\n",
       "  </thead>\n",
       "  <tbody>\n",
       "    <tr>\n",
       "      <th>Unnamed: 0</th>\n",
       "      <td>NaN</td>\n",
       "      <td>NaN</td>\n",
       "      <td>NaN</td>\n",
       "      <td>NaN</td>\n",
       "      <td>NaN</td>\n",
       "      <td>NaN</td>\n",
       "    </tr>\n",
       "    <tr>\n",
       "      <th>Rank</th>\n",
       "      <td>NaN</td>\n",
       "      <td>1.000000</td>\n",
       "      <td>-0.526051</td>\n",
       "      <td>-0.468487</td>\n",
       "      <td>-0.348387</td>\n",
       "      <td>-0.501322</td>\n",
       "    </tr>\n",
       "    <tr>\n",
       "      <th>Sales</th>\n",
       "      <td>NaN</td>\n",
       "      <td>-0.526051</td>\n",
       "      <td>1.000000</td>\n",
       "      <td>0.544257</td>\n",
       "      <td>0.373856</td>\n",
       "      <td>0.578612</td>\n",
       "    </tr>\n",
       "    <tr>\n",
       "      <th>Profits</th>\n",
       "      <td>NaN</td>\n",
       "      <td>-0.468487</td>\n",
       "      <td>0.544257</td>\n",
       "      <td>1.000000</td>\n",
       "      <td>0.561030</td>\n",
       "      <td>0.741232</td>\n",
       "    </tr>\n",
       "    <tr>\n",
       "      <th>Assets</th>\n",
       "      <td>NaN</td>\n",
       "      <td>-0.348387</td>\n",
       "      <td>0.373856</td>\n",
       "      <td>0.561030</td>\n",
       "      <td>1.000000</td>\n",
       "      <td>0.328990</td>\n",
       "    </tr>\n",
       "    <tr>\n",
       "      <th>Market Value</th>\n",
       "      <td>NaN</td>\n",
       "      <td>-0.501322</td>\n",
       "      <td>0.578612</td>\n",
       "      <td>0.741232</td>\n",
       "      <td>0.328990</td>\n",
       "      <td>1.000000</td>\n",
       "    </tr>\n",
       "  </tbody>\n",
       "</table>\n",
       "</div>"
      ],
      "text/plain": [
       "              Unnamed: 0      Rank     Sales   Profits    Assets  Market Value\n",
       "Unnamed: 0           NaN       NaN       NaN       NaN       NaN           NaN\n",
       " Rank                NaN  1.000000 -0.526051 -0.468487 -0.348387     -0.501322\n",
       "Sales                NaN -0.526051  1.000000  0.544257  0.373856      0.578612\n",
       "Profits              NaN -0.468487  0.544257  1.000000  0.561030      0.741232\n",
       "Assets               NaN -0.348387  0.373856  0.561030  1.000000      0.328990\n",
       "Market Value         NaN -0.501322  0.578612  0.741232  0.328990      1.000000"
      ]
     },
     "execution_count": 2,
     "metadata": {},
     "output_type": "execute_result"
    }
   ],
   "source": [
    "df.corr()"
   ]
  },
  {
   "cell_type": "markdown",
   "metadata": {},
   "source": [
    "## merubah nilai salah satu atribute bertipe bilangan bulat menjadi integer"
   ]
  },
  {
   "cell_type": "code",
   "execution_count": 3,
   "metadata": {},
   "outputs": [
    {
     "data": {
      "text/plain": [
       "0       151\n",
       "1       134\n",
       "2       222\n",
       "3       102\n",
       "4        97\n",
       "       ... \n",
       "1995      0\n",
       "1996      0\n",
       "1997      2\n",
       "1998      0\n",
       "1999      4\n",
       "Name: Sales, Length: 2000, dtype: int64"
      ]
     },
     "execution_count": 3,
     "metadata": {},
     "output_type": "execute_result"
    }
   ],
   "source": [
    "Sales=df[\"Sales\"].astype(\"int64\")\n",
    "Sales"
   ]
  },
  {
   "cell_type": "markdown",
   "metadata": {},
   "source": [
    "## untuk melihat jumlah kolom dan baris"
   ]
  },
  {
   "cell_type": "code",
   "execution_count": 4,
   "metadata": {},
   "outputs": [
    {
     "data": {
      "text/plain": [
       "(2000, 10)"
      ]
     },
     "execution_count": 4,
     "metadata": {},
     "output_type": "execute_result"
    }
   ],
   "source": [
    "df.shape\n"
   ]
  },
  {
   "cell_type": "markdown",
   "metadata": {},
   "source": [
    "## menampilkan 10 record pertama"
   ]
  },
  {
   "cell_type": "code",
   "execution_count": 5,
   "metadata": {},
   "outputs": [
    {
     "data": {
      "text/html": [
       "<div>\n",
       "<style scoped>\n",
       "    .dataframe tbody tr th:only-of-type {\n",
       "        vertical-align: middle;\n",
       "    }\n",
       "\n",
       "    .dataframe tbody tr th {\n",
       "        vertical-align: top;\n",
       "    }\n",
       "\n",
       "    .dataframe thead th {\n",
       "        text-align: right;\n",
       "    }\n",
       "</style>\n",
       "<table border=\"1\" class=\"dataframe\">\n",
       "  <thead>\n",
       "    <tr style=\"text-align: right;\">\n",
       "      <th></th>\n",
       "      <th>Sales</th>\n",
       "    </tr>\n",
       "  </thead>\n",
       "  <tbody>\n",
       "    <tr>\n",
       "      <th>0</th>\n",
       "      <td>151.400</td>\n",
       "    </tr>\n",
       "    <tr>\n",
       "      <th>1</th>\n",
       "      <td>134.200</td>\n",
       "    </tr>\n",
       "    <tr>\n",
       "      <th>2</th>\n",
       "      <td>222.900</td>\n",
       "    </tr>\n",
       "    <tr>\n",
       "      <th>3</th>\n",
       "      <td>102.500</td>\n",
       "    </tr>\n",
       "    <tr>\n",
       "      <th>4</th>\n",
       "      <td>97.600</td>\n",
       "    </tr>\n",
       "    <tr>\n",
       "      <th>...</th>\n",
       "      <td>...</td>\n",
       "    </tr>\n",
       "    <tr>\n",
       "      <th>1995</th>\n",
       "      <td>0.555</td>\n",
       "    </tr>\n",
       "    <tr>\n",
       "      <th>1996</th>\n",
       "      <td>0.630</td>\n",
       "    </tr>\n",
       "    <tr>\n",
       "      <th>1997</th>\n",
       "      <td>2.300</td>\n",
       "    </tr>\n",
       "    <tr>\n",
       "      <th>1998</th>\n",
       "      <td>0.523</td>\n",
       "    </tr>\n",
       "    <tr>\n",
       "      <th>1999</th>\n",
       "      <td>4.200</td>\n",
       "    </tr>\n",
       "  </tbody>\n",
       "</table>\n",
       "<p>2000 rows × 1 columns</p>\n",
       "</div>"
      ],
      "text/plain": [
       "        Sales\n",
       "0     151.400\n",
       "1     134.200\n",
       "2     222.900\n",
       "3     102.500\n",
       "4      97.600\n",
       "...       ...\n",
       "1995    0.555\n",
       "1996    0.630\n",
       "1997    2.300\n",
       "1998    0.523\n",
       "1999    4.200\n",
       "\n",
       "[2000 rows x 1 columns]"
      ]
     },
     "execution_count": 5,
     "metadata": {},
     "output_type": "execute_result"
    }
   ],
   "source": [
    "df[[\"Sales\"]]"
   ]
  },
  {
   "cell_type": "markdown",
   "metadata": {},
   "source": [
    "## menampilkan informasi"
   ]
  },
  {
   "cell_type": "code",
   "execution_count": 8,
   "metadata": {},
   "outputs": [
    {
     "name": "stdout",
     "output_type": "stream",
     "text": [
      "<class 'pandas.core.frame.DataFrame'>\n",
      "RangeIndex: 2000 entries, 0 to 1999\n",
      "Data columns (total 10 columns):\n",
      " #   Column        Non-Null Count  Dtype  \n",
      "---  ------        --------------  -----  \n",
      " 0   Unnamed: 0    0 non-null      float64\n",
      " 1    Rank         2000 non-null   int64  \n",
      " 2   Company       2000 non-null   object \n",
      " 3   Country       2000 non-null   object \n",
      " 4   Sales         2000 non-null   float64\n",
      " 5   Profits       2000 non-null   float64\n",
      " 6   Assets        2000 non-null   float64\n",
      " 7   Market Value  2000 non-null   float64\n",
      " 8   Sector        1803 non-null   object \n",
      " 9   Industry      1509 non-null   object \n",
      "dtypes: float64(5), int64(1), object(4)\n",
      "memory usage: 156.4+ KB\n"
     ]
    }
   ],
   "source": [
    "df.info()"
   ]
  },
  {
   "cell_type": "markdown",
   "metadata": {},
   "source": [
    "## directory "
   ]
  },
  {
   "cell_type": "code",
   "execution_count": 9,
   "metadata": {},
   "outputs": [],
   "source": [
    "record, attribute = df.shape\n",
    "jumlah_object = df.select_dtypes([\"int64\", \"float64\"]).any().sum()\n",
    "nama_attribute = df.columns.values\n",
    "jumlah_null = df.isnull().any().sum()"
   ]
  },
  {
   "cell_type": "code",
   "execution_count": 10,
   "metadata": {},
   "outputs": [],
   "source": [
    "hasil = {\"Jumlah Record\": record, \"Jumlah Attribute\": attribute, \"Nama Atribute\" : list(nama_attribute), \"Jumlah Object\": jumlah_object, \"Jumlah Nilai Null\": jumlah_null} "
   ]
  },
  {
   "cell_type": "code",
   "execution_count": 11,
   "metadata": {},
   "outputs": [
    {
     "name": "stdout",
     "output_type": "stream",
     "text": [
      "Jumlah Record : 2000\n",
      "Jumlah Attribute : 10\n",
      "Nama Atribute : ['Unnamed: 0', ' Rank', 'Company', 'Country', 'Sales', 'Profits', 'Assets', 'Market Value', 'Sector', 'Industry']\n",
      "Jumlah Object : 5\n",
      "Jumlah Nilai Null : 3\n"
     ]
    }
   ],
   "source": [
    "for x in hasil:\n",
    "    print(x, \":\", hasil[x])"
   ]
  },
  {
   "cell_type": "markdown",
   "metadata": {},
   "source": [
    "## menyimpan dataset dengan atribute bertipe angka ke dalam file csv"
   ]
  },
  {
   "cell_type": "code",
   "execution_count": 12,
   "metadata": {},
   "outputs": [],
   "source": [
    "df.select_dtypes(include=[\"int64\", \"float64\"]).to_csv(\"Posttest2_csv.csv\")"
   ]
  },
  {
   "cell_type": "code",
   "execution_count": null,
   "metadata": {},
   "outputs": [],
   "source": []
  }
 ],
 "metadata": {
  "kernelspec": {
   "display_name": "Sherina_050",
   "language": "python",
   "name": "sherina_050"
  },
  "language_info": {
   "codemirror_mode": {
    "name": "ipython",
    "version": 3
   },
   "file_extension": ".py",
   "mimetype": "text/x-python",
   "name": "python",
   "nbconvert_exporter": "python",
   "pygments_lexer": "ipython3",
   "version": "3.10.7"
  }
 },
 "nbformat": 4,
 "nbformat_minor": 2
}
