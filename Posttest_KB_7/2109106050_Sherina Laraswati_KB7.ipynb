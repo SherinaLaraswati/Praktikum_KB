{
 "cells": [
  {
   "cell_type": "markdown",
   "metadata": {},
   "source": [
    "### ---- Posttest 7 Tensorflow ----\n",
    "### Sherina Laraswati\n",
    "### 2109106050\n",
    "### Informatika A 2021"
   ]
  },
  {
   "cell_type": "code",
   "execution_count": 32,
   "metadata": {},
   "outputs": [],
   "source": [
    "import tensorflow as tf"
   ]
  },
  {
   "cell_type": "markdown",
   "metadata": {},
   "source": [
    "## Tensor dengan shape (5,5) dengan nilai random yang disimpan di dalam variable random tensor"
   ]
  },
  {
   "cell_type": "code",
   "execution_count": 33,
   "metadata": {},
   "outputs": [
    {
     "data": {
      "text/plain": [
       "<tf.Tensor: shape=(5, 5), dtype=float32, numpy=\n",
       "array([[-1.1000824 ,  1.3291217 , -0.52346504, -0.43433666, -1.9020158 ],\n",
       "       [ 0.0082488 ,  0.9488962 ,  0.93592894, -0.66424435, -0.29272172],\n",
       "       [ 0.3519842 , -1.8289    ,  0.1154035 , -0.8119289 , -1.1299595 ],\n",
       "       [-0.76826435, -0.10811629, -0.99425375, -1.3926783 ,  0.39757574],\n",
       "       [-0.9746144 , -0.7996424 , -0.26467425,  1.2341244 ,  0.91120714]],\n",
       "      dtype=float32)>"
      ]
     },
     "execution_count": 33,
     "metadata": {},
     "output_type": "execute_result"
    }
   ],
   "source": [
    "random_tensor = tf.random.normal([5, 5])\n",
    "random_tensor"
   ]
  },
  {
   "cell_type": "markdown",
   "metadata": {},
   "source": [
    "## Tensor dengan shape (5,5) dari sebuah list dengan nilai bil prima dalam var bilangan prime_tensor"
   ]
  },
  {
   "cell_type": "code",
   "execution_count": 34,
   "metadata": {},
   "outputs": [
    {
     "data": {
      "text/plain": [
       "<tf.Tensor: shape=(5, 5), dtype=float32, numpy=\n",
       "array([[ 2.,  3.,  5.,  7., 11.],\n",
       "       [13., 17., 19., 23., 29.],\n",
       "       [31., 37., 41., 43., 47.],\n",
       "       [53., 59., 61., 67., 71.],\n",
       "       [73., 79., 83., 89., 97.]], dtype=float32)>"
      ]
     },
     "execution_count": 34,
     "metadata": {},
     "output_type": "execute_result"
    }
   ],
   "source": [
    "prime_tensor = tf.constant([2, 3, 5, 7, 11, 13, 17, 19, \n",
    "                           23, 29, 31, 37, 41, 43, 47,\n",
    "                           53, 59, 61, 67, 71, 73, 79,\n",
    "                           83, 89, 97], shape = [5, 5], dtype = tf.float32)\n",
    "prime_tensor"
   ]
  },
  {
   "cell_type": "markdown",
   "metadata": {},
   "source": [
    "## Menampilkan dimensi dari kedua variable"
   ]
  },
  {
   "cell_type": "code",
   "execution_count": 35,
   "metadata": {},
   "outputs": [
    {
     "data": {
      "text/plain": [
       "TensorShape([5, 5])"
      ]
     },
     "execution_count": 35,
     "metadata": {},
     "output_type": "execute_result"
    }
   ],
   "source": [
    "## Menampilkan dimensi variable random_tensor dengan menggunakan Dimension Expansion\n",
    "\n",
    "dimensi_random_tensor = tf.random.normal([5, 5])\n",
    "dimensi_random_tensor.shape"
   ]
  },
  {
   "cell_type": "code",
   "execution_count": 36,
   "metadata": {},
   "outputs": [
    {
     "data": {
      "text/plain": [
       "TensorShape([1, 5, 5])"
      ]
     },
     "execution_count": 36,
     "metadata": {},
     "output_type": "execute_result"
    }
   ],
   "source": [
    "tf.expand_dims(dimensi_random_tensor,axis=0).shape"
   ]
  },
  {
   "cell_type": "code",
   "execution_count": 37,
   "metadata": {},
   "outputs": [
    {
     "data": {
      "text/plain": [
       "TensorShape([5, 5])"
      ]
     },
     "execution_count": 37,
     "metadata": {},
     "output_type": "execute_result"
    }
   ],
   "source": [
    "## Menampilkan dimensi variable prime_tensor dengan menggunakan Dimension Display\n",
    "\n",
    "dimensi_prime_tensor = tf.constant([2, 3, 5, 7, 11, 13, 17, 19, \n",
    "                           23, 29, 31, 37, 41, 43, 47,\n",
    "                           53, 59, 61, 67, 71, 73, 79,\n",
    "                           83, 89, 97], shape = [5, 5])\n",
    "dimensi_prime_tensor.shape"
   ]
  },
  {
   "cell_type": "code",
   "execution_count": 38,
   "metadata": {},
   "outputs": [
    {
     "data": {
      "text/plain": [
       "<tf.Tensor: shape=(2,), dtype=int32, numpy=array([5, 5])>"
      ]
     },
     "execution_count": 38,
     "metadata": {},
     "output_type": "execute_result"
    }
   ],
   "source": [
    "tf.shape(dimensi_prime_tensor)"
   ]
  },
  {
   "cell_type": "markdown",
   "metadata": {},
   "source": [
    "## perhitungan aritmatika 2 variable\n"
   ]
  },
  {
   "cell_type": "code",
   "execution_count": 39,
   "metadata": {},
   "outputs": [
    {
     "data": {
      "text/plain": [
       "<tf.Tensor: shape=(5, 5), dtype=float32, numpy=\n",
       "array([[ 0.8999176,  4.3291216,  4.476535 ,  6.5656633,  9.097984 ],\n",
       "       [13.008248 , 17.948896 , 19.935928 , 22.335756 , 28.70728  ],\n",
       "       [31.351984 , 35.1711   , 41.115402 , 42.188072 , 45.87004  ],\n",
       "       [52.231735 , 58.891884 , 60.005745 , 65.60732  , 71.397575 ],\n",
       "       [72.02538  , 78.200356 , 82.73533  , 90.23412  , 97.91121  ]],\n",
       "      dtype=float32)>"
      ]
     },
     "execution_count": 39,
     "metadata": {},
     "output_type": "execute_result"
    }
   ],
   "source": [
    "## Pertambahan\n",
    "\n",
    "a = random_tensor\n",
    "b = prime_tensor\n",
    "\n",
    "tf.add(a,b)"
   ]
  },
  {
   "cell_type": "code",
   "execution_count": 40,
   "metadata": {},
   "outputs": [
    {
     "data": {
      "text/plain": [
       "<tf.Tensor: shape=(5, 5), dtype=float32, numpy=\n",
       "array([[ -3.1000824,  -1.6708783,  -5.523465 ,  -7.4343367, -12.902016 ],\n",
       "       [-12.991752 , -16.051104 , -18.064072 , -23.664244 , -29.29272  ],\n",
       "       [-30.648016 , -38.8289   , -40.884598 , -43.811928 , -48.12996  ],\n",
       "       [-53.768265 , -59.108116 , -61.994255 , -68.39268  , -70.602425 ],\n",
       "       [-73.97462  , -79.799644 , -83.26467  , -87.76588  , -96.08879  ]],\n",
       "      dtype=float32)>"
      ]
     },
     "execution_count": 40,
     "metadata": {},
     "output_type": "execute_result"
    }
   ],
   "source": [
    "## Pengurangan\n",
    "\n",
    "a = random_tensor\n",
    "b = prime_tensor\n",
    "\n",
    "tf.subtract(a,b)"
   ]
  },
  {
   "cell_type": "code",
   "execution_count": 41,
   "metadata": {},
   "outputs": [
    {
     "data": {
      "text/plain": [
       "<tf.Tensor: shape=(5, 5), dtype=float32, numpy=\n",
       "array([[-163.01599  , -175.9585   , -186.07101  , -198.01973  ,\n",
       "        -213.49268  ],\n",
       "       [ -15.20769  ,  -11.53008  ,   -8.37145  ,   -8.429306 ,\n",
       "          -3.9579697],\n",
       "       [-145.01349  , -162.93602  , -171.57193  , -189.6041   ,\n",
       "        -210.99533  ],\n",
       "       [ -78.552826 ,  -91.68969  ,  -98.614525 , -108.54264  ,\n",
       "        -118.631516 ],\n",
       "       [ 111.377235 ,  118.488    ,  119.993866 ,  127.188705 ,\n",
       "         129.65985  ]], dtype=float32)>"
      ]
     },
     "execution_count": 41,
     "metadata": {},
     "output_type": "execute_result"
    }
   ],
   "source": [
    "## Perkalian\n",
    "\n",
    "a = random_tensor\n",
    "b = prime_tensor\n",
    "\n",
    "tf.matmul(a,b)"
   ]
  },
  {
   "cell_type": "code",
   "execution_count": 42,
   "metadata": {},
   "outputs": [
    {
     "data": {
      "text/plain": [
       "<tf.Tensor: shape=(5, 5), dtype=float32, numpy=\n",
       "array([[-0.5500412 ,  0.44304058, -0.10469301, -0.0620481 , -0.17291053],\n",
       "       [ 0.00063452,  0.05581743,  0.04925942, -0.02888019, -0.01009385],\n",
       "       [ 0.01135433, -0.04942973,  0.00281472, -0.01888207, -0.02404169],\n",
       "       [-0.01449555, -0.00183248, -0.01629924, -0.02078624,  0.00559966],\n",
       "       [-0.01335088, -0.01012206, -0.00318885,  0.01386657,  0.00939389]],\n",
       "      dtype=float32)>"
      ]
     },
     "execution_count": 42,
     "metadata": {},
     "output_type": "execute_result"
    }
   ],
   "source": [
    "## Pembagian\n",
    "\n",
    "a = random_tensor\n",
    "b = prime_tensor\n",
    "\n",
    "tf.divide(a,b)"
   ]
  },
  {
   "cell_type": "code",
   "execution_count": 43,
   "metadata": {},
   "outputs": [
    {
     "data": {
      "text/plain": [
       "<tf.Tensor: shape=(5, 5), dtype=float32, numpy=\n",
       "array([[ 1.2101812e+00,  2.3479793e+00, -3.9304148e-02, -2.9159859e-03,\n",
       "        -1.1785698e+03],\n",
       "       [ 8.1861623e-28,  4.0993807e-01,  2.8419384e-01, -8.1948507e-05,\n",
       "        -3.3666148e-16],\n",
       "       [ 8.7542380e-15, -5.0237537e+09,  0.0000000e+00, -1.2860997e-04,\n",
       "        -3.1185635e+02],\n",
       "       [-8.5519702e-07, -0.0000000e+00, -7.0360941e-01, -4.3451361e+09,\n",
       "         3.6208530e-29],\n",
       "       [-1.5303668e-01, -2.1319087e-08, -0.0000000e+00,  1.3519053e+08,\n",
       "         1.2102081e-04]], dtype=float32)>"
      ]
     },
     "execution_count": 43,
     "metadata": {},
     "output_type": "execute_result"
    }
   ],
   "source": [
    "## Perpangkatan\n",
    "\n",
    "a = random_tensor\n",
    "b = prime_tensor\n",
    "\n",
    "tf.pow(a,b)"
   ]
  },
  {
   "cell_type": "markdown",
   "metadata": {},
   "source": [
    "## Maksimal dan minimal var random_tensor"
   ]
  },
  {
   "cell_type": "code",
   "execution_count": 44,
   "metadata": {},
   "outputs": [
    {
     "data": {
      "text/plain": [
       "<tf.Tensor: shape=(5,), dtype=int64, numpy=array([2, 0, 1, 4, 4], dtype=int64)>"
      ]
     },
     "execution_count": 44,
     "metadata": {},
     "output_type": "execute_result"
    }
   ],
   "source": [
    "argmax = random_tensor\n",
    "maksimal = tf.argmax(argmax, axis = 0) # Nilai max perkolom\n",
    "maksimal"
   ]
  },
  {
   "cell_type": "code",
   "execution_count": 45,
   "metadata": {},
   "outputs": [
    {
     "data": {
      "text/plain": [
       "<tf.Tensor: shape=(5,), dtype=int64, numpy=array([1, 1, 0, 4, 3], dtype=int64)>"
      ]
     },
     "execution_count": 45,
     "metadata": {},
     "output_type": "execute_result"
    }
   ],
   "source": [
    "maksimal = tf.argmax(argmax, axis=1) # Nilai max perbaris\n",
    "maksimal"
   ]
  },
  {
   "cell_type": "code",
   "execution_count": 46,
   "metadata": {},
   "outputs": [
    {
     "data": {
      "text/plain": [
       "<tf.Tensor: shape=(5,), dtype=int64, numpy=array([0, 2, 3, 3, 0], dtype=int64)>"
      ]
     },
     "execution_count": 46,
     "metadata": {},
     "output_type": "execute_result"
    }
   ],
   "source": [
    "argmin = random_tensor\n",
    "minimal = tf.argmin(argmin, axis = 0) # Nilai min perkolom\n",
    "minimal"
   ]
  },
  {
   "cell_type": "code",
   "execution_count": 47,
   "metadata": {},
   "outputs": [
    {
     "data": {
      "text/plain": [
       "<tf.Tensor: shape=(5,), dtype=int64, numpy=array([0, 2, 3, 3, 0], dtype=int64)>"
      ]
     },
     "execution_count": 47,
     "metadata": {},
     "output_type": "execute_result"
    }
   ],
   "source": [
    "mainimal = tf.argmax(argmax, axis=1) # Nilai min perbaris\n",
    "minimal"
   ]
  },
  {
   "cell_type": "markdown",
   "metadata": {},
   "source": [
    "## Penggabungan var random_tensor dengan prime_tensor (Concatenation)"
   ]
  },
  {
   "cell_type": "code",
   "execution_count": 48,
   "metadata": {},
   "outputs": [],
   "source": [
    "concat_1 = random_tensor\n",
    "concat_2 = prime_tensor"
   ]
  },
  {
   "cell_type": "code",
   "execution_count": 49,
   "metadata": {},
   "outputs": [
    {
     "data": {
      "text/plain": [
       "<tf.Tensor: shape=(10, 5), dtype=float32, numpy=\n",
       "array([[-1.10008240e+00,  1.32912171e+00, -5.23465037e-01,\n",
       "        -4.34336662e-01, -1.90201581e+00],\n",
       "       [ 8.24880041e-03,  9.48896229e-01,  9.35928941e-01,\n",
       "        -6.64244354e-01, -2.92721719e-01],\n",
       "       [ 3.51984203e-01, -1.82889998e+00,  1.15403496e-01,\n",
       "        -8.11928928e-01, -1.12995946e+00],\n",
       "       [-7.68264353e-01, -1.08116291e-01, -9.94253755e-01,\n",
       "        -1.39267826e+00,  3.97575736e-01],\n",
       "       [-9.74614382e-01, -7.99642384e-01, -2.64674246e-01,\n",
       "         1.23412442e+00,  9.11207139e-01],\n",
       "       [ 2.00000000e+00,  3.00000000e+00,  5.00000000e+00,\n",
       "         7.00000000e+00,  1.10000000e+01],\n",
       "       [ 1.30000000e+01,  1.70000000e+01,  1.90000000e+01,\n",
       "         2.30000000e+01,  2.90000000e+01],\n",
       "       [ 3.10000000e+01,  3.70000000e+01,  4.10000000e+01,\n",
       "         4.30000000e+01,  4.70000000e+01],\n",
       "       [ 5.30000000e+01,  5.90000000e+01,  6.10000000e+01,\n",
       "         6.70000000e+01,  7.10000000e+01],\n",
       "       [ 7.30000000e+01,  7.90000000e+01,  8.30000000e+01,\n",
       "         8.90000000e+01,  9.70000000e+01]], dtype=float32)>"
      ]
     },
     "execution_count": 49,
     "metadata": {},
     "output_type": "execute_result"
    }
   ],
   "source": [
    "concat_1_2 = tf.concat([concat_1, concat_2], axis = 0)\n",
    "concat_1_2"
   ]
  },
  {
   "cell_type": "markdown",
   "metadata": {},
   "source": [
    "## Sorting dari kedua variable diatas (descending)"
   ]
  },
  {
   "cell_type": "code",
   "execution_count": 50,
   "metadata": {},
   "outputs": [],
   "source": [
    "sorting_1 = random_tensor\n",
    "sorting_2= prime_tensor"
   ]
  },
  {
   "cell_type": "code",
   "execution_count": 51,
   "metadata": {},
   "outputs": [
    {
     "data": {
      "text/plain": [
       "<tf.Tensor: shape=(2, 5, 5), dtype=float32, numpy=\n",
       "array([[[ 1.32912171e+00, -4.34336662e-01, -5.23465037e-01,\n",
       "         -1.10008240e+00, -1.90201581e+00],\n",
       "        [ 9.48896229e-01,  9.35928941e-01,  8.24880041e-03,\n",
       "         -2.92721719e-01, -6.64244354e-01],\n",
       "        [ 3.51984203e-01,  1.15403496e-01, -8.11928928e-01,\n",
       "         -1.12995946e+00, -1.82889998e+00],\n",
       "        [ 3.97575736e-01, -1.08116291e-01, -7.68264353e-01,\n",
       "         -9.94253755e-01, -1.39267826e+00],\n",
       "        [ 1.23412442e+00,  9.11207139e-01, -2.64674246e-01,\n",
       "         -7.99642384e-01, -9.74614382e-01]],\n",
       "\n",
       "       [[ 1.10000000e+01,  7.00000000e+00,  5.00000000e+00,\n",
       "          3.00000000e+00,  2.00000000e+00],\n",
       "        [ 2.90000000e+01,  2.30000000e+01,  1.90000000e+01,\n",
       "          1.70000000e+01,  1.30000000e+01],\n",
       "        [ 4.70000000e+01,  4.30000000e+01,  4.10000000e+01,\n",
       "          3.70000000e+01,  3.10000000e+01],\n",
       "        [ 7.10000000e+01,  6.70000000e+01,  6.10000000e+01,\n",
       "          5.90000000e+01,  5.30000000e+01],\n",
       "        [ 9.70000000e+01,  8.90000000e+01,  8.30000000e+01,\n",
       "          7.90000000e+01,  7.30000000e+01]]], dtype=float32)>"
      ]
     },
     "execution_count": 51,
     "metadata": {},
     "output_type": "execute_result"
    }
   ],
   "source": [
    "sorting_desc = tf.sort([sorting_1, sorting_2], direction=\"DESCENDING\")\n",
    "sorting_desc"
   ]
  }
 ],
 "metadata": {
  "kernelspec": {
   "display_name": "Sherina_050",
   "language": "python",
   "name": "sherina_050"
  },
  "language_info": {
   "codemirror_mode": {
    "name": "ipython",
    "version": 3
   },
   "file_extension": ".py",
   "mimetype": "text/x-python",
   "name": "python",
   "nbconvert_exporter": "python",
   "pygments_lexer": "ipython3",
   "version": "3.10.7"
  }
 },
 "nbformat": 4,
 "nbformat_minor": 2
}
